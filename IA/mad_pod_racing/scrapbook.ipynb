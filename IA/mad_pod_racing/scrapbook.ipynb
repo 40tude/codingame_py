{
 "cells": [
  {
   "cell_type": "code",
   "execution_count": null,
   "metadata": {},
   "outputs": [
    {
     "name": "stdout",
     "output_type": "stream",
     "text": [
      "[4, 5, 1, 2, 3]\n"
     ]
    }
   ],
   "source": [
    "a = [1, 2, 3, 4, 5]\n",
    "\n",
    "# Rotate right by n\n",
    "n = 2  \n",
    "rotated_list = a[-n:] + a[:-n] \n",
    "print(rotated_list)"
   ]
  },
  {
   "cell_type": "code",
   "execution_count": null,
   "metadata": {},
   "outputs": [
    {
     "name": "stdout",
     "output_type": "stream",
     "text": [
      "[2, 3, 4, 5, 1]\n"
     ]
    }
   ],
   "source": [
    "a = [1, 2, 3, 4, 5]\n",
    "\n",
    "# Rotate left by n\n",
    "n = 1  \n",
    "rotated_list = a[n:] + a[0:n] \n",
    "print(rotated_list)"
   ]
  },
  {
   "cell_type": "code",
   "execution_count": 4,
   "metadata": {},
   "outputs": [
    {
     "data": {
      "text/plain": [
       "0"
      ]
     },
     "execution_count": 4,
     "metadata": {},
     "output_type": "execute_result"
    }
   ],
   "source": [
    "4%4\n"
   ]
  },
  {
   "cell_type": "code",
   "execution_count": 8,
   "metadata": {},
   "outputs": [],
   "source": [
    "bFirstLap = True\n",
    "cp_set = set()\n",
    "\n",
    "couple1 = (0, 0)\n",
    "couple2 = (0, 1)\n",
    "couple3 = (1, 0)\n",
    "couple4 = (1, 1)\n",
    "# couple5 = (1, 2)\n",
    "# couple6 = (2, 1)\n",
    "# couple6 = (2, 2)\n",
    "list_couples = [couple1, couple2, couple4, couple1] \n",
    "for couple in list_couples:\n",
    "    if couple not in cp_set:\n",
    "        cp_set.add(couple)\n",
    "    else:\n",
    "        bFirstLap = False"
   ]
  },
  {
   "cell_type": "code",
   "execution_count": 10,
   "metadata": {},
   "outputs": [],
   "source": [
    "this = False\n",
    "that = True\n",
    "if this :\n",
    "    bob = 1\n",
    "    if that :\n",
    "        bob = 2\n",
    "else :\n",
    "    bob = 42"
   ]
  },
  {
   "cell_type": "code",
   "execution_count": 18,
   "metadata": {},
   "outputs": [
    {
     "name": "stdout",
     "output_type": "stream",
     "text": [
      "2\n"
     ]
    }
   ],
   "source": [
    "couple1 = (0, 0)\n",
    "couple2 = (0, 1)\n",
    "couple3 = (1, 0)\n",
    "couple4 = (1, 1)\n",
    "list_couples = [couple1, couple2, couple3, couple4] \n",
    "Id = list_couples.index(couple3)\n",
    "print(Id)"
   ]
  },
  {
   "cell_type": "code",
   "execution_count": 17,
   "metadata": {},
   "outputs": [
    {
     "name": "stdout",
     "output_type": "stream",
     "text": [
      "Here\n"
     ]
    }
   ],
   "source": [
    "couple1 = (0, 0)\n",
    "couple2 = (0, 1)\n",
    "couple3 = (1, 0)\n",
    "couple4 = (1, 1)\n",
    "list_couples = [couple1, couple2, couple3, couple4] \n",
    "\n",
    "if (1,0) not in list_couples:\n",
    "    print(\"Not here\")\n",
    "else:\n",
    "    print(\"Here\")"
   ]
  },
  {
   "cell_type": "code",
   "execution_count": null,
   "metadata": {},
   "outputs": [
    {
     "name": "stdout",
     "output_type": "stream",
     "text": [
      "100\n"
     ]
    }
   ],
   "source": [
    "# Si angle au delà de 90° => 0, sinon regle de 3 entre 0 et 90 pour aller de 0 à 100\n",
    "import math\n",
    "angle = 0\n",
    "if angle > 90 or angle < -90:\n",
    "    angle = 90\n",
    "else:\n",
    "    angle = angle%90\n",
    "angle = abs(angle)\n",
    "angle = angle/180*math.pi\n",
    "thrust = int(100*math.cos(angle))\n",
    "\n",
    "print(thrust)\n"
   ]
  },
  {
   "cell_type": "code",
   "execution_count": null,
   "metadata": {},
   "outputs": [],
   "source": [
    "import math\n",
    "angle = 0\n",
    "if angle > 135 or angle < -135:\n",
    "    angle = 135\n",
    "else:\n",
    "    angle = angle%135\n",
    "angle = abs(angle)\n",
    "angle = angle/180*math.pi\n",
    "thrust = int(100*math.cos(angle))\n",
    "\n",
    "print(thrust)\n"
   ]
  },
  {
   "cell_type": "code",
   "execution_count": null,
   "metadata": {},
   "outputs": [],
   "source": [
    "# Je veux entre MinThrottle et FullThrottle quand angle varie de 90° à 0°\n",
    "\n",
    "import math\n",
    "\n",
    "k_MinThrottle = 0\n",
    "k_FullThrottle = 100\n",
    "\n",
    "next_checkpoint_angle = 0\n",
    "if next_checkpoint_angle > 90 or next_checkpoint_angle < -90:\n",
    "    angle = 90\n",
    "else:\n",
    "    angle = abs(next_checkpoint_angle)\n",
    "    angle = angle%90\n",
    "\n",
    "angle = angle/180*math.pi\n",
    "thrust = int((k_FullThrottle-k_MinThrottle)*math.cos(angle)+k_MinThrottle)\n",
    "\n",
    "print(thrust)\n"
   ]
  }
 ],
 "metadata": {
  "kernelspec": {
   "display_name": "codingame",
   "language": "python",
   "name": "python3"
  },
  "language_info": {
   "codemirror_mode": {
    "name": "ipython",
    "version": 3
   },
   "file_extension": ".py",
   "mimetype": "text/x-python",
   "name": "python",
   "nbconvert_exporter": "python",
   "pygments_lexer": "ipython3",
   "version": "3.13.1"
  }
 },
 "nbformat": 4,
 "nbformat_minor": 2
}
