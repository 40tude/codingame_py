{
 "cells": [
  {
   "cell_type": "code",
   "execution_count": 7,
   "metadata": {},
   "outputs": [
    {
     "name": "stdout",
     "output_type": "stream",
     "text": [
      "3 is in ligne1\n",
      "[[3 2 3]\n",
      " [2 4 2]\n",
      " [3 2 3]]\n",
      "[[   3    2    3]\n",
      " [   2    4    2]\n",
      " [   3    2 1024]]\n",
      "[   3    2 1024]\n",
      "[   3    2 1024]\n",
      "[   3    4 1024]\n"
     ]
    }
   ],
   "source": [
    "import numpy as np\n",
    "\n",
    "board_game = np.array([[3, 2, 3], [2, 4, 2], [3, 2, 3]])\n",
    "indices = {0, 1, 2}\n",
    "\n",
    "line0 = board_game[0]\n",
    "line1 = board_game[1]\n",
    "line2 = board_game[2]\n",
    "\n",
    "col0 = board_game[:,0] # Référence à la colonne 0\n",
    "col1 = board_game[:,1]\n",
    "col2 = board_game[:,2]\n",
    "\n",
    "# diag1 = [board_game[0][0], board_game[1][1], board_game[2][2]]\n",
    "# diag2 = [board_game[0][2], board_game[1][1], board_game[2][0]]\n",
    "\n",
    "diag1 = board_game.diagonal()\n",
    "diag2 = np.fliplr(board_game).diagonal()\n",
    "\n",
    "if 8 in line0:\n",
    "    print(\"8 is in ligne1\")\n",
    "\n",
    "if 3 in line0:\n",
    "    print(\"3 is in ligne1\")\n",
    "\n",
    "print(board_game)\n",
    "board_game[2][2] = 1024\n",
    "print(board_game)\n",
    "print(line2)\n",
    "print(col2)\n",
    "print(diag1)"
   ]
  },
  {
   "cell_type": "code",
   "execution_count": null,
   "metadata": {},
   "outputs": [],
   "source": [
    "board_game = [[3, 2, 3], [2, 4, 2], [3, 2, 3]]\n",
    "my_max = max(board_game)\n",
    "my_max"
   ]
  },
  {
   "cell_type": "code",
   "execution_count": null,
   "metadata": {},
   "outputs": [],
   "source": [
    "import numpy as np\n",
    "import time\n",
    "\n",
    "# Generate a large 1000x1000 random matrix\n",
    "np.random.seed(42)\n",
    "board_game = np.random.randint(0, 1000, size=(3, 3)).tolist()\n",
    "\n",
    "# Method 1: Using max(map(max, board_game)) + next()\n",
    "start_time = time.time()\n",
    "max_value = max(map(max, board_game))\n",
    "max_indices = next((i, row.index(max_value)) for i, row in enumerate(board_game) if max_value in row)\n",
    "time_method_1 = time.time() - start_time\n",
    "print(max_indices[0], max_indices[1])\n",
    "\n",
    "# Method 2: Using nested loops\n",
    "start_time = time.time()\n",
    "max_value = -1\n",
    "y, x = -1, -1\n",
    "for j in range(len(board_game)):\n",
    "    for i in range(len(board_game[0])):\n",
    "        if board_game[j][i] > max_value:\n",
    "            max_value = board_game[j][i]\n",
    "            y, x = j, i\n",
    "time_method_2 = time.time() - start_time\n",
    "\n",
    "# Display results\n",
    "time_method_1, time_method_2\n",
    "\n",
    "# 1000x1000 matrix (0.019032716751098633, 0.08292317390441895)\n",
    "# 3x3 matrix (0.0000011920928955078125, 0.0000011920928955078125)\n",
    "\n"
   ]
  },
  {
   "cell_type": "code",
   "execution_count": 12,
   "metadata": {},
   "outputs": [
    {
     "name": "stdout",
     "output_type": "stream",
     "text": [
      "2 1\n"
     ]
    }
   ],
   "source": [
    "import numpy as np\n",
    "board_game = np.array([[3, 2, 3], [2, 4, 2], [3, 1024, 3]])\n",
    "max_indices = np.argwhere(board_game == board_game.max())[0]\n",
    "print(max_indices[0], max_indices[1])\n"
   ]
  },
  {
   "cell_type": "code",
   "execution_count": null,
   "metadata": {},
   "outputs": [
    {
     "name": "stderr",
     "output_type": "stream",
     "text": [
      "Board before opponent  :\n",
      "[[3 2 3]\n",
      " [2 4 2]\n",
      " [3 2 3]]\n",
      "Board after opponent  :\n",
      "[[-1  1  2]\n",
      " [ 1  3  2]\n",
      " [ 2  2  2]]\n"
     ]
    }
   ],
   "source": [
    "import sys\n",
    "import numpy as np  # available on coding game\n",
    "\n",
    "k_opponent = -1\n",
    "# board_game = np.array([[3, 2, 3], [2, 4, 2], [3, 2, 3]])\n",
    "board_game = np.array([[-1, 1, 2], [-1, -2, 1], [-2, 2, 2]])\n",
    "\n",
    "line0 = board_game[0]\n",
    "line1 = board_game[1]\n",
    "line2 = board_game[2]\n",
    "\n",
    "col0 = board_game[:, 0]  \n",
    "col1 = board_game[:, 1]\n",
    "col2 = board_game[:, 2]\n",
    "\n",
    "diag1_indices = np.arange(board_game.shape[0])  # [0, 1, 2]\n",
    "diag2_indices = np.arange(board_game.shape[0])[::-1]  # [2, 1 ,0] \n",
    "def update_board_game(opp_row, opp_col):\n",
    "    if opp_row == -1 and opp_col == -1:\n",
    "        print(f\"Board at init         : {board_game}\", file=sys.stderr, flush=True)\n",
    "    else:\n",
    "        # Si dans la opp_col il n'y a pas de k_opponent alors on enlève 1 aux cellules dont la valeur est > 0\n",
    "        if k_opponent not in board_game[:, opp_col]:\n",
    "            board_game[:, opp_col] -= (board_game[:, opp_col] > 0).astype(int)  # astype convert bool to int\n",
    "        \n",
    "        if k_opponent not in board_game[opp_row]:\n",
    "            board_game[opp_row] -= (board_game[opp_row] > 0).astype(int)  # astype convert bool to int\n",
    "        \n",
    "        # Si k_opponent n'est pas dans la diagonale principale\n",
    "        if (opp_row==opp_col) and k_opponent not in board_game[diag1_indices, diag1_indices]:\n",
    "            board_game[diag1_indices, diag1_indices] -= (board_game[diag1_indices, diag1_indices] > 0).astype(int)\n",
    "\n",
    "        # Si k_opponent n'est pas dans la diagonale secondaire\n",
    "        if (opp_row==2-opp_col) and k_opponent not in board_game[diag2_indices, diag1_indices]:\n",
    "            board_game[diag2_indices, diag1_indices] -= (board_game[diag2_indices, diag1_indices] > 0).astype(int)\n",
    "\n",
    "\n",
    "        board_game[opp_row][opp_col] = k_opponent\n",
    "        print(f\"Board after opponent  :\\n{board_game}\", file=sys.stderr, flush=True)\n",
    "    return\n",
    "\n",
    "print(f\"Board before opponent  :\\n{board_game}\", file=sys.stderr, flush=True)\n",
    "update_board_game(0, 0)"
   ]
  },
  {
   "cell_type": "code",
   "execution_count": 16,
   "metadata": {},
   "outputs": [
    {
     "name": "stderr",
     "output_type": "stream",
     "text": [
      "Board after selection : [[-1  1  2]\n",
      " [-1 -2  1]\n",
      " [-2  2  2]]\n"
     ]
    },
    {
     "name": "stdout",
     "output_type": "stream",
     "text": [
      "2 0\n"
     ]
    }
   ],
   "source": [
    "board_game = np.array([[-1, 1, 2], [-1, -2, 1], [-2, 2, 2]])\n",
    "max_indices = np.argwhere(board_game == board_game.max())[0]\n",
    "print(max_indices[1], max_indices[0])\n",
    "print(f\"Board after selection : {board_game}\", file=sys.stderr, flush=True)\n",
    "\n"
   ]
  },
  {
   "cell_type": "code",
   "execution_count": 17,
   "metadata": {},
   "outputs": [
    {
     "name": "stdout",
     "output_type": "stream",
     "text": [
      "2 2\n"
     ]
    }
   ],
   "source": [
    "board_game = np.array([[-1, 1, 2], [-1, -2, 1], [-2, 2, 2]])\n",
    "\n",
    "max_value = -100\n",
    "for j in range(3):\n",
    "    for i in range(3):\n",
    "        if board_game[j][i] > max_value:\n",
    "            max_weight = board_game[j][i]\n",
    "            y = j\n",
    "            x = i\n",
    "print(y, x)\n"
   ]
  }
 ],
 "metadata": {
  "kernelspec": {
   "display_name": "codingame",
   "language": "python",
   "name": "python3"
  },
  "language_info": {
   "codemirror_mode": {
    "name": "ipython",
    "version": 3
   },
   "file_extension": ".py",
   "mimetype": "text/x-python",
   "name": "python",
   "nbconvert_exporter": "python",
   "pygments_lexer": "ipython3",
   "version": "3.13.1"
  }
 },
 "nbformat": 4,
 "nbformat_minor": 2
}
