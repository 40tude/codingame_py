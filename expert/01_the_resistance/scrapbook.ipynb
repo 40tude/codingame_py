{
 "cells": [
  {
   "cell_type": "code",
   "execution_count": null,
   "metadata": {},
   "outputs": [],
   "source": [
    "# Store results in a dictionary\n",
    "memo = {}\n",
    "\n",
    "def fib(n):\n",
    "    if n in memo:\n",
    "        return memo[n]  # Return cached result\n",
    "    \n",
    "    if n <= 1:\n",
    "        return n  # Base case\n",
    "    \n",
    "    memo[n] = fib(n-1) + fib(n-2)  # Store result in cache\n",
    "    return memo[n]\n",
    "\n",
    "print(fib(10))  # 55\n"
   ]
  },
  {
   "cell_type": "code",
   "execution_count": null,
   "metadata": {},
   "outputs": [
    {
     "name": "stdout",
     "output_type": "stream",
     "text": [
      "12\n",
      "12\n"
     ]
    }
   ],
   "source": [
    "#  Les arguments par défaut sont évalués une seule fois, lors de la définition de la fonction, et non à chaque appel.\n",
    "#  memo est donc partagé entre tous les appels de la fonction.\n",
    "def expensive_func(x, y, memo={}):\n",
    "    if (x, y) in memo:\n",
    "        return memo[(x, y)]  # Return cached result\n",
    "\n",
    "    result = x * y  # Example of expensive computation\n",
    "    memo[(x, y)] = result  # Store result\n",
    "    return result\n",
    "\n",
    "print(expensive_func(3, 4))  # 12\n",
    "print(expensive_func(3, 4))  # Reutilise le cache"
   ]
  },
  {
   "cell_type": "code",
   "execution_count": null,
   "metadata": {},
   "outputs": [],
   "source": []
  }
 ],
 "metadata": {
  "kernelspec": {
   "display_name": "codingame",
   "language": "python",
   "name": "python3"
  },
  "language_info": {
   "codemirror_mode": {
    "name": "ipython",
    "version": 3
   },
   "file_extension": ".py",
   "mimetype": "text/x-python",
   "name": "python",
   "nbconvert_exporter": "python",
   "pygments_lexer": "ipython3",
   "version": "3.13.1"
  }
 },
 "nbformat": 4,
 "nbformat_minor": 2
}
