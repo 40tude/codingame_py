{
 "cells": [
  {
   "cell_type": "code",
   "execution_count": 4,
   "metadata": {},
   "outputs": [
    {
     "data": {
      "text/plain": [
       "0.14285714285714285"
      ]
     },
     "execution_count": 4,
     "metadata": {},
     "output_type": "execute_result"
    }
   ],
   "source": [
    "1/7"
   ]
  },
  {
   "cell_type": "code",
   "execution_count": 5,
   "metadata": {},
   "outputs": [
    {
     "data": {
      "text/plain": [
       "0"
      ]
     },
     "execution_count": 5,
     "metadata": {},
     "output_type": "execute_result"
    }
   ],
   "source": [
    "1//210\n"
   ]
  },
  {
   "cell_type": "code",
   "execution_count": 6,
   "metadata": {},
   "outputs": [
    {
     "data": {
      "text/plain": [
       "0"
      ]
     },
     "execution_count": 6,
     "metadata": {},
     "output_type": "execute_result"
    }
   ],
   "source": [
    "10//210"
   ]
  },
  {
   "cell_type": "code",
   "execution_count": 7,
   "metadata": {},
   "outputs": [
    {
     "data": {
      "text/plain": [
       "0"
      ]
     },
     "execution_count": 7,
     "metadata": {},
     "output_type": "execute_result"
    }
   ],
   "source": [
    "100//210"
   ]
  },
  {
   "cell_type": "code",
   "execution_count": 8,
   "metadata": {},
   "outputs": [
    {
     "data": {
      "text/plain": [
       "4"
      ]
     },
     "execution_count": 8,
     "metadata": {},
     "output_type": "execute_result"
    }
   ],
   "source": [
    "1000//210"
   ]
  },
  {
   "cell_type": "code",
   "execution_count": 10,
   "metadata": {},
   "outputs": [
    {
     "data": {
      "text/plain": [
       "0.004761904761904762"
      ]
     },
     "execution_count": 10,
     "metadata": {},
     "output_type": "execute_result"
    }
   ],
   "source": [
    "1/210\n"
   ]
  },
  {
   "cell_type": "markdown",
   "metadata": {},
   "source": [
    "On va faire 1 divisé par le nombre N (où N>1)\n",
    "Donc on pose 0 et . dès le départ dans str_out\n",
    "Tant que 1 // D == 0\n",
    "    N = N*10 \n",
    "    str_out +=\"0\"\n",
    "fin\n",
    "R = N%D\n",
    "str_out += N//D\n",
    "D = R\n"
   ]
  },
  {
   "cell_type": "code",
   "execution_count": null,
   "metadata": {},
   "outputs": [
    {
     "name": "stdout",
     "output_type": "stream",
     "text": [
      "0.0\n",
      "0.00\n",
      "0.000\n",
      "0.0000\n",
      "0.0000\n",
      "0.00004\n",
      "0.00004\n",
      "[1, 10, 100, 1000, 10000, 100000, 0]\n"
     ]
    }
   ],
   "source": [
    "N = 1\n",
    "D = 25000   # 20 25000 195312500 7 561 1931 210 195312500 44\n",
    "R = 0\n",
    "cache=[]\n",
    "str_result = \"0.\"\n",
    "\n",
    "cache.append(N)\n",
    "N *= 10\n",
    "cache.append(N)\n",
    "while N<D:\n",
    "    N *= 10\n",
    "    cache.append(N) \n",
    "    str_result += \"0\"\n",
    "    print(str_result)\n",
    "print(str_result)\n",
    "\n",
    "R = N%D\n",
    "while R not in cache:\n",
    "    cache.append(R) \n",
    "    str_result += str(N//D)\n",
    "    print(str_result)\n",
    "    N = R*10\n",
    "    R = N%D\n",
    "\n",
    "if R:\n",
    "    str_result += str(N//D) \n",
    "\n",
    "    # first_pos = cache.index(R)\n",
    "    # length = len(cache) - first_pos -1\n",
    "    # id = len(str_result) - length  \n",
    "    \n",
    "    # str_result = str_result[:id] + \"(\" + str_result[id:]\n",
    "    # str_result += \")\" \n",
    "print(str_result )\n",
    "print(cache)"
   ]
  },
  {
   "cell_type": "code",
   "execution_count": 27,
   "metadata": {},
   "outputs": [
    {
     "name": "stdout",
     "output_type": "stream",
     "text": [
      "0.0(047619)\n"
     ]
    }
   ],
   "source": [
    "cache=[]\n",
    "str_result = \"0.\"\n",
    "\n",
    "N = 1\n",
    "D = 210  # 20 25000 195312500 7 561 1931 210 195312500 44\n",
    "R = N%D\n",
    "\n",
    "while R and R not in cache:\n",
    "    cache.append(R) \n",
    "    N = R*10\n",
    "    R = N%D\n",
    "    str_result += str(N//D)\n",
    "    # print(str_result)\n",
    "\n",
    "if R!=0:\n",
    "    first_pos = cache.index(R)\n",
    "    first_pos+=1\n",
    "    length_of_repetitive_pattern = len(cache) - first_pos + 1\n",
    "    tmp = len(str_result)\n",
    "    id = len(str_result) - length_of_repetitive_pattern \n",
    "    str_result = str_result[:id] + \"(\" + str_result[id:]\n",
    "    str_result+=')'\n",
    "\n",
    "print(str_result)\n",
    "\n"
   ]
  },
  {
   "cell_type": "code",
   "execution_count": 36,
   "metadata": {},
   "outputs": [
    {
     "name": "stdout",
     "output_type": "stream",
     "text": [
      "0.0\n",
      "0.0\n",
      "0.05\n",
      "0.05\n",
      "[1, 10, 100, 0]\n"
     ]
    }
   ],
   "source": [
    "N = 1\n",
    "D = 20   # 20 25000 195312500 7 561 1931 210 195312500 44\n",
    "R = 0\n",
    "cache=[]\n",
    "str_result = \"0.\"\n",
    "\n",
    "cache.append(N)\n",
    "N *= 10\n",
    "cache.append(N)\n",
    "while N<D:\n",
    "    N *= 10\n",
    "    cache.append(N) \n",
    "    str_result += \"0\"\n",
    "    print(str_result)\n",
    "print(str_result)\n",
    "\n",
    "R = N%D\n",
    "while R not in cache:\n",
    "    cache.append(R) \n",
    "    str_result += str(N//D)\n",
    "    print(str_result)\n",
    "    N = R*10\n",
    "    R = N%D\n",
    "\n",
    "if R:\n",
    "    str_result += str(N//D) \n",
    "\n",
    "print(str_result )\n",
    "print(cache)\n"
   ]
  }
 ],
 "metadata": {
  "kernelspec": {
   "display_name": "codingame",
   "language": "python",
   "name": "python3"
  },
  "language_info": {
   "codemirror_mode": {
    "name": "ipython",
    "version": 3
   },
   "file_extension": ".py",
   "mimetype": "text/x-python",
   "name": "python",
   "nbconvert_exporter": "python",
   "pygments_lexer": "ipython3",
   "version": "3.13.1"
  }
 },
 "nbformat": 4,
 "nbformat_minor": 2
}
