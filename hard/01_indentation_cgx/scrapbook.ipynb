{
 "cells": [
  {
   "cell_type": "code",
   "execution_count": 3,
   "metadata": {},
   "outputs": [
    {
     "name": "stdout",
     "output_type": "stream",
     "text": [
      "[[]]\n",
      "[[[]]]\n",
      "[[]]\n"
     ]
    }
   ],
   "source": [
    "# stack = [\"a\", \"b\", \"c\", \"d\"] \n",
    "# stack = [[\"a\"], [\"b\"], [\"c\"], [\"d\"]] \n",
    "stack=[[]]\n",
    "new_block = []\n",
    "stack[-1].append(new_block)  # Ajouter au parent\n",
    "stack.append(new_block) \n",
    "\n",
    "stack.pop()\n",
    "print(stack)\n",
    "\n",
    "stack[-1].pop()\n",
    "print(stack)"
   ]
  }
 ],
 "metadata": {
  "kernelspec": {
   "display_name": "codingame",
   "language": "python",
   "name": "python3"
  },
  "language_info": {
   "codemirror_mode": {
    "name": "ipython",
    "version": 3
   },
   "file_extension": ".py",
   "mimetype": "text/x-python",
   "name": "python",
   "nbconvert_exporter": "python",
   "pygments_lexer": "ipython3",
   "version": "3.13.1"
  }
 },
 "nbformat": 4,
 "nbformat_minor": 2
}
