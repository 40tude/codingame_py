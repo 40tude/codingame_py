{
 "cells": [
  {
   "cell_type": "code",
   "execution_count": 5,
   "metadata": {},
   "outputs": [
    {
     "data": {
      "text/plain": [
       "400"
      ]
     },
     "execution_count": 5,
     "metadata": {},
     "output_type": "execute_result"
    }
   ],
   "source": [
    "def func1(w, h):\n",
    "    return (w*h)\n",
    "\n",
    "def func2(w):\n",
    "    return (100*w)\n",
    "\n",
    "\n",
    "ops = {\n",
    "    \">\": func1,\n",
    "    \"<\": func2,\n",
    "}\n",
    "\n",
    "\n",
    "ops[\">\"](4, 5)\n",
    "ops[\"<\"](4)"
   ]
  }
 ],
 "metadata": {
  "kernelspec": {
   "display_name": "codingame",
   "language": "python",
   "name": "python3"
  },
  "language_info": {
   "codemirror_mode": {
    "name": "ipython",
    "version": 3
   },
   "file_extension": ".py",
   "mimetype": "text/x-python",
   "name": "python",
   "nbconvert_exporter": "python",
   "pygments_lexer": "ipython3",
   "version": "3.13.1"
  }
 },
 "nbformat": 4,
 "nbformat_minor": 2
}
