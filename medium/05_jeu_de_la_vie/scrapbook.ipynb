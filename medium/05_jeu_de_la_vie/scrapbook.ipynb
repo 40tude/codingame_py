{
 "cells": [
  {
   "cell_type": "code",
   "execution_count": null,
   "metadata": {},
   "outputs": [
    {
     "name": "stdout",
     "output_type": "stream",
     "text": [
      "13\n"
     ]
    }
   ],
   "source": [
    "def sum_around(m, y, x):\n",
    "    nb_rows = len(m)\n",
    "    nb_cols = len(m[0])\n",
    "    sum = -m[y][x]\n",
    "\n",
    "    for j in range(max(0, y - 1), min(nb_rows, y + 2)):\n",
    "        for i in range(max(0, x - 1), min(nb_cols, x + 2)):\n",
    "            sum += m[j][i]\n",
    "    return sum\n",
    "\n",
    "matrix = [\n",
    "    [1, 2, 3, 4],\n",
    "    [5, 6, 7, 8],\n",
    "    [9, 10, 11, 12],\n",
    "    [13, 14, 15, 16]\n",
    "]\n",
    "\n",
    "result = sum_around(matrix, 0, 0)\n",
    "print(result)  "
   ]
  },
  {
   "cell_type": "code",
   "execution_count": null,
   "metadata": {},
   "outputs": [
    {
     "name": "stdout",
     "output_type": "stream",
     "text": [
      "13\n"
     ]
    }
   ],
   "source": [
    "def sum_around(matrix, row, col):\n",
    "    rows = len(matrix)\n",
    "    cols = len(matrix[0])\n",
    "    sum = 0\n",
    "\n",
    "    for i in range(row - 1, row + 2):\n",
    "        for j in range(col - 1, col + 2):\n",
    "            if 0 <= i < rows and 0 <= j < cols:\n",
    "                sum += matrix[i][j]\n",
    "    return sum-matrix[row][col]\n",
    "\n",
    "m = [\n",
    "    [1, 2, 3, 4],\n",
    "    [5, 6, 7, 8],\n",
    "    [9, 10, 11, 12],\n",
    "    [13, 14, 15, 16]\n",
    "]\n",
    "\n",
    "result = sum_around(m, 0, 0)\n",
    "print(result)  "
   ]
  },
  {
   "cell_type": "code",
   "execution_count": null,
   "metadata": {},
   "outputs": [],
   "source": [
    "# 3 3\n",
    "# 000\n",
    "# 111\n",
    "# 000\n",
    "\n",
    "w, h = map(int, input().split())\n",
    "map_in = [list(map(int, input())) for _ in range(h)]\n"
   ]
  }
 ],
 "metadata": {
  "kernelspec": {
   "display_name": "codingame",
   "language": "python",
   "name": "python3"
  },
  "language_info": {
   "codemirror_mode": {
    "name": "ipython",
    "version": 3
   },
   "file_extension": ".py",
   "mimetype": "text/x-python",
   "name": "python",
   "nbconvert_exporter": "python",
   "pygments_lexer": "ipython3",
   "version": "3.13.1"
  }
 },
 "nbformat": 4,
 "nbformat_minor": 2
}
