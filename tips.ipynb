{
 "cells": [
  {
   "cell_type": "markdown",
   "metadata": {},
   "source": [
    "# Entrées"
   ]
  },
  {
   "cell_type": "markdown",
   "metadata": {},
   "source": [
    "## 1D"
   ]
  },
  {
   "cell_type": "markdown",
   "metadata": {},
   "source": [
    "```\n",
    "w, h = map(int, input().split())\n",
    "\n",
    "list_1D = list(input().split()) # input() = \"a e i o u y\"        \n",
    "list_1D = list(map(int, input().split())) # input() = \"100 10 150\"\n",
    "list_1D = list(map((lambda c: 1 if c == \"O\" else 0), input())) # input() = \"OOOO...OOO\"\n",
    "list_1D = list(map((lambda c: 1 if c == \"O\" else 0), input().split())) # input() = \"O O O O . . . O O O\"\n",
    "\n",
    "```"
   ]
  },
  {
   "cell_type": "code",
   "execution_count": null,
   "metadata": {},
   "outputs": [],
   "source": [
    "# Lire 1 entier sur 1 ligne\n",
    "# Exemple : 42\n",
    "\n",
    "n = int(input())\n",
    "\n",
    "# Lire N entiers sur 1 ligne\n",
    "# Exemple : 42 21\n",
    "\n",
    "w, h = map(int, input().split())\n",
    "#       À préférer à w, h = [int(i) for i in input().split()] qui créé une liste inutilement\n",
    "\n"
   ]
  },
  {
   "cell_type": "code",
   "execution_count": null,
   "metadata": {},
   "outputs": [],
   "source": [
    "# Créer une liste 1D à partir de N entiers sur N lignes\n",
    "# Exemple : \n",
    "# 2\n",
    "# 42\n",
    "# 21\n",
    "\n",
    "n_inputs = int(input())\n",
    "inputs = [int(input()) for _ in range(n_inputs)]"
   ]
  },
  {
   "cell_type": "code",
   "execution_count": null,
   "metadata": {},
   "outputs": [],
   "source": [
    "# Créer une liste 1D à partir d'une ligne de chars contigus \n",
    "# Exemple : aeiouy\n",
    "\n",
    "list_1D = list(input())\n",
    "#       ['a', 'e', \"i\", 'o', 'u', 'y'] "
   ]
  },
  {
   "cell_type": "code",
   "execution_count": null,
   "metadata": {},
   "outputs": [],
   "source": [
    "# Créer une liste à partir d'une ligne de chars espacés \n",
    "# Exemple : a e i o u y\n",
    "\n",
    "list_1D = input().split()\n",
    "#       ['a', 'e', \"i\", 'o', 'u', 'y'] split() retourne une liste"
   ]
  },
  {
   "cell_type": "code",
   "execution_count": null,
   "metadata": {},
   "outputs": [],
   "source": [
    "# Créer une liste à partir d'une ligne d'entiers espacés \n",
    "# Exemple : 100 10 150\n",
    "\n",
    "list_1D = [int(i) for i in input().split()]\n",
    "list_1D = list(map(int, input().split()))"
   ]
  },
  {
   "cell_type": "code",
   "execution_count": null,
   "metadata": {},
   "outputs": [],
   "source": [
    "# Créer une liste à partir d'une ligne de chars qu'on transforme \n",
    "\n",
    "# Exemple : O O O O . . . O O O\n",
    "list_1D = list(map((lambda c: 1 if c == \"O\" else 0), input().split())) \n",
    "\n",
    "\n",
    "# Exemple : OOOO...OOO\n",
    "list_1D = list(map((lambda c: 1 if c == \"O\" else 0), input())) \n"
   ]
  },
  {
   "cell_type": "code",
   "execution_count": null,
   "metadata": {},
   "outputs": [],
   "source": [
    "# Créer une liste à partir d'une ligne de groupes de chars séparés par des points\n",
    "# Exemple : sqdqsd.9J4T7A55Q.Something.465.just\n",
    "\n",
    "list_1D = input().split(\".\")"
   ]
  },
  {
   "cell_type": "code",
   "execution_count": null,
   "metadata": {},
   "outputs": [],
   "source": [
    "# Créer une chaîne en joignant n lignes de char\n",
    "# Exemple :\n",
    "# 3\n",
    "# This is the (first|second|third) choice.\n",
    "# This is the (first|second|third) choice.\n",
    "# This is the (first|second|third) choice.\n",
    "\n",
    "str_in = \"\".join(input() for _ in range(int(input())))\n"
   ]
  },
  {
   "cell_type": "code",
   "execution_count": null,
   "metadata": {},
   "outputs": [],
   "source": [
    "# Lire une date\n",
    "# Exemple : 15.12.2014\n",
    "\n",
    "from datetime import date\n",
    "begin = date(*list(map(int, input().split(\".\")))[::-1])\n"
   ]
  },
  {
   "cell_type": "markdown",
   "metadata": {},
   "source": [
    "## 2D"
   ]
  },
  {
   "cell_type": "markdown",
   "metadata": {},
   "source": [
    "```\n",
    "list_2D = [list(                                      input())  for _ in range(h)] # input() = \"ddxk etc.\"\n",
    "list_2D = [list(map(int,                              input())) for _ in range(h)] # input() = \"1118 etc.\"\n",
    "list_2D = [list(map((lambda c: 1 if c == \"O\" else 0), input())) for _ in range(h)] # input() = \"OZZO etc.\"\n",
    "```"
   ]
  },
  {
   "cell_type": "code",
   "execution_count": null,
   "metadata": {},
   "outputs": [],
   "source": [
    "# Créer une liste 2D à partir de n lignes de chars non espacés\n",
    "# Exemple :\n",
    "# 4\n",
    "# enzr\n",
    "# ddxk\n",
    "# unfs\n",
    "# kwmm\n",
    "\n",
    "n = int(input())\n",
    "map_in = [list(input()) for _ in range(n)]\n",
    "\n",
    "# Si n n'est pas utilisé dans la suite \n",
    "map_in = [list(input()) for _ in range(int(input()))]\n",
    "\n",
    "\n",
    "\n",
    "\n",
    "\n"
   ]
  },
  {
   "cell_type": "markdown",
   "metadata": {},
   "source": []
  },
  {
   "cell_type": "code",
   "execution_count": null,
   "metadata": {},
   "outputs": [],
   "source": [
    "# Créer une liste 2D de chars à partir de h lignes de w chars non espacés\n",
    "# Exemple :\n",
    "# 15 3\n",
    "# ...............\n",
    "# ......#........\n",
    "# ...............\n",
    "\n",
    "w, h = map(int, input().split())\n",
    "map_in = [list(input()) for _ in range(h)]\n"
   ]
  },
  {
   "cell_type": "code",
   "execution_count": null,
   "metadata": {},
   "outputs": [],
   "source": [
    "# Créer une liste 2D d'entiers 1 digit avec h lignes de w chars\n",
    "# Exemple :\n",
    "# 3 3\n",
    "# 000\n",
    "# 111\n",
    "# 000\n",
    "\n",
    "w, h = map(int, input().split())\n",
    "map_in = [list(map(int, input())) for _ in range(h)]\n"
   ]
  },
  {
   "cell_type": "code",
   "execution_count": null,
   "metadata": {},
   "outputs": [],
   "source": [
    "# Créer une liste 2D d'entiers avec h lignes de w ints espacés\n",
    "# Exemple :\n",
    "# 3 3\n",
    "# 2  14    78\n",
    "# 99  2 88888\n",
    "# 0  09     7\n",
    "\n",
    "w, h = map(int, input().split())\n",
    "map_in = [list(map(int, input().split())) for _ in range(h)]\n",
    "\n"
   ]
  },
  {
   "cell_type": "code",
   "execution_count": null,
   "metadata": {},
   "outputs": [],
   "source": [
    "# Créer une liste 2D d'entiers en appliquant une transformation sur chaque char\n",
    "# Exemple : \n",
    "# .OO.\n",
    "# O..O\n",
    "# .OO.\n",
    "\n",
    "\n",
    "map_in = [list(map((lambda c: 1 if c == \"O\" else 0), input())) for _ in range(h)]\n",
    "\n",
    "\n",
    "c2i = lambda c: 1 if c == \"O\" else 0 # transforme les O en 1 et les . en 0\n",
    "map_in = [list(map(c2i, input())) for _ in range(h)]\n",
    "\n",
    "\n",
    "# [[0, 1, 1, 0], [1, 0, 0, 1], [0, 1, 1, 0]]"
   ]
  },
  {
   "cell_type": "markdown",
   "metadata": {},
   "source": [
    "## 3D"
   ]
  },
  {
   "cell_type": "code",
   "execution_count": null,
   "metadata": {},
   "outputs": [],
   "source": [
    "# Créer une liste 3D avec n maps de h lignes de chars\n",
    "\n",
    "n, h = map(int, input().split())\n",
    "list_of_2D_maps = [[list(input()) for _ in range(h)] for _ in range(n)]\n",
    "\n"
   ]
  },
  {
   "cell_type": "markdown",
   "metadata": {},
   "source": [
    "# Sorties"
   ]
  },
  {
   "cell_type": "code",
   "execution_count": null,
   "metadata": {},
   "outputs": [],
   "source": [
    "\n",
    "# Afficher une liste 2D\n",
    "# Exemple : [['.', '.', 'O'], ['.', 'O', '.'], ['O', '.', '.']]\n",
    "print(\"\\n\".join(\"\".join(row) for row in map_out))\n",
    "\n",
    "# Afficher une liste 2D\n",
    "# Exemple : [['.', '.', 'O'], ['.', 'O', '.'], ['O', '.', '.']]\n",
    "for row in map_out:\n",
    "    print(*row, sep=\"\")\n",
    "\n"
   ]
  },
  {
   "cell_type": "code",
   "execution_count": null,
   "metadata": {},
   "outputs": [],
   "source": [
    "# Afficher une liste 2D d'entiers, utiliser une lambda pour transformer\n",
    "# Exemple : [[0, 1, 1, 0], [1, 0, 0, 1], [0, 1, 1, 0]]\n",
    "\n",
    "for row in map_in:\n",
    "    print(\"\".join((lambda i: \"O\" if i == 1 else \".\")(value) for value in row))\n",
    "\n",
    "\n",
    "\n",
    "i2c = lambda i: \"O\" if i == 1 else \".\" # transforme les 1 en O et les 0 en .\n",
    "for row in map_in:\n",
    "    print(\"\".join(i2c(value) for value in row))\n",
    "\n",
    "# .OO.\n",
    "# O..O\n",
    "# .OO.\n"
   ]
  },
  {
   "cell_type": "markdown",
   "metadata": {},
   "source": [
    "# Divers"
   ]
  },
  {
   "cell_type": "code",
   "execution_count": null,
   "metadata": {},
   "outputs": [],
   "source": [
    "# Créer une liste 1D de taille N remplie de 0\n",
    "array = [0] * N "
   ]
  },
  {
   "cell_type": "code",
   "execution_count": null,
   "metadata": {},
   "outputs": [],
   "source": [
    "# Créer une liste 2D N x N de \"-\"\n",
    "\n",
    "map_out = [list(\"-\" * n) for _ in range(n)]\n",
    "#       Plus rapide que : map_out = [['-' for _ in range(w)] for _ in range(h)]\n"
   ]
  },
  {
   "cell_type": "code",
   "execution_count": 8,
   "metadata": {},
   "outputs": [
    {
     "name": "stdout",
     "output_type": "stream",
     "text": [
      ".....\n",
      "00000\n",
      ".....\n",
      "\n",
      ".0.\n",
      ".0.\n",
      ".0.\n",
      ".0.\n",
      ".0.\n"
     ]
    }
   ],
   "source": [
    "# Transposition de matrice\n",
    "\n",
    "map_out = [['.', '.', '.', '.', '.'], ['0', '0', '0', '0','0'], ['.', '.', '.', '.', '.']]\n",
    "map_out = zip(*map_out)    \n",
    "for row in map_out:\n",
    "    print(*row, sep=\"\")\n"
   ]
  },
  {
   "cell_type": "code",
   "execution_count": null,
   "metadata": {},
   "outputs": [],
   "source": [
    "# Retrouver les coordonnées de l'unique valeur 'S' dans une liste 2D\n",
    "\n",
    "# next(iterator) renvoie ici le premier couple (y, x) \n",
    "y0, x0 = next((y, x) for y, row in enumerate(map) for x, value in enumerate(row) if value == \"S\")\n"
   ]
  },
  {
   "cell_type": "code",
   "execution_count": null,
   "metadata": {},
   "outputs": [],
   "source": [
    "# Retrouver LES coordonnées des valeurs 'a' dans une liste 2D\n",
    "multiple_starts = [(y, x) for y, row in enumerate(map_in) for x, value in enumerate(row) if value == 'a']\n"
   ]
  },
  {
   "cell_type": "code",
   "execution_count": null,
   "metadata": {},
   "outputs": [],
   "source": [
    "# .sort() ne retourne rien\n",
    "# le mieux pour lire une liste et la trier\n",
    "liste_triee = sorted([int(i) for i in input().split()], reverse=True)"
   ]
  },
  {
   "cell_type": "code",
   "execution_count": null,
   "metadata": {},
   "outputs": [],
   "source": [
    "# Rediriger les entrées\n",
    "RedirectIOtoFile = True\n",
    "if RedirectIOtoFile:\n",
    "    import sys\n",
    "    import os\n",
    "    from pathlib import Path\n",
    "\n",
    "    k_input = \"input.txt\"\n",
    "    os.chdir(Path(__file__).parent)\n",
    "    sys.stdin = open(k_input, \"r\")\n",
    "\n",
    "# -----------------------------------------------------------------------------\n",
    "# Your code here...\n",
    "\n",
    "# -----------------------------------------------------------------------------\n",
    "if RedirectIOtoFile:\n",
    "    sys.stdin.close()\n"
   ]
  },
  {
   "cell_type": "code",
   "execution_count": null,
   "metadata": {},
   "outputs": [],
   "source": [
    "# -----------------------------------------------------------------------------\n",
    "# To debug: print(\"Debug messages...\", file=sys.stderr, flush=True)\n",
    "import time\n",
    "import sys\n",
    "\n",
    "start_time = time.perf_counter()\n",
    "\n",
    "# -----------------------------------------------------------------------------\n",
    "# Your code here...\n",
    "\n",
    "end_time = time.perf_counter()\n",
    "print(f\"Execution time: {(end_time - start_time) * 1_000_000 :.2f} µs\", file=sys.stderr, flush=True)\n"
   ]
  },
  {
   "cell_type": "code",
   "execution_count": null,
   "metadata": {},
   "outputs": [],
   "source": [
    "from collections import deque\n",
    "\n",
    "class Node:\n",
    "    def __init__(self, key):\n",
    "        self.left = None\n",
    "        self.right = None\n",
    "        self.val = key\n",
    "\n",
    "\n",
    "def bfs(root):\n",
    "    if root is None:\n",
    "        return\n",
    "\n",
    "    # Initialize a queue for BFS\n",
    "    queue = deque([root])\n",
    "\n",
    "    while queue:\n",
    "        # Dequeue a node from the front of the queue\n",
    "        node = queue.popleft()\n",
    "        # Visit the node\n",
    "        print(node.val, end=\" \")\n",
    "\n",
    "        # Enqueue the left child if it exists\n",
    "        if node.left:\n",
    "            queue.append(node.left)\n",
    "        # Enqueue the right child if it exists\n",
    "        if node.right:\n",
    "            queue.append(node.right)\n",
    "\n",
    "\n",
    "# Create a sample binary search tree\n",
    "#       50\n",
    "#      /  \\\n",
    "#    30   70\n",
    "#    / \\  / \\\n",
    "#   20 40 60 80\n",
    "\n",
    "root = Node(50)\n",
    "root.left = Node(30)\n",
    "root.right = Node(70)\n",
    "root.left.left = Node(20)\n",
    "root.left.right = Node(40)\n",
    "root.right.left = Node(60)\n",
    "root.right.right = Node(80)\n",
    "\n",
    "bfs(root)  # Output: 50 30 70 20 40 60 80\n"
   ]
  },
  {
   "cell_type": "code",
   "execution_count": null,
   "metadata": {},
   "outputs": [],
   "source": [
    "# Recursive\n",
    "\n",
    "def check_if_in(voc, morse_str):\n",
    "    if morse_str == \"\":\n",
    "        return 1\n",
    "\n",
    "    count = 0\n",
    "    for translated in voc.values():\n",
    "        if morse_str.startswith(translated):\n",
    "            count += check_if_in(voc, morse_str[len(translated) :])\n",
    "    return count\n",
    "\n",
    "# lower in main()\n",
    "result = check_if_in(vocabulary, morse_input)\n",
    "print(result)\n"
   ]
  },
  {
   "cell_type": "code",
   "execution_count": null,
   "metadata": {},
   "outputs": [],
   "source": [
    "# Memoization\n",
    "# ! “cache” provides memoization. As a default argument, it is shared between calls and therefore behaves like a static variable.\n",
    "\n",
    "def expensive_func(x, y, cache={}): \n",
    "    if (x, y) in cache:\n",
    "        return cache[(x, y)]  # Return cached result\n",
    "\n",
    "    result = x * y  # Example of expensive computation\n",
    "    cache[(x, y)] = result  # Store result\n",
    "    return result\n",
    "\n",
    "print(expensive_func(3, 4))  # 12\n",
    "print(expensive_func(3, 4))  # Reutilise le cache"
   ]
  },
  {
   "cell_type": "code",
   "execution_count": 1,
   "metadata": {},
   "outputs": [
    {
     "name": "stdout",
     "output_type": "stream",
     "text": [
      "[4, 5, 1, 2, 3]\n",
      "[2, 3, 4, 5, 1]\n"
     ]
    }
   ],
   "source": [
    "# Rotate right by n\n",
    "a = [1, 2, 3, 4, 5]\n",
    "n = 2  \n",
    "rotated_list = a[-n:] + a[:-n] \n",
    "print(rotated_list)\n",
    "\n",
    "\n",
    "# Rotate left by n\n",
    "a = [1, 2, 3, 4, 5]\n",
    "n = 1  \n",
    "rotated_list = a[n:] + a[0:n] \n",
    "print(rotated_list)"
   ]
  },
  {
   "cell_type": "code",
   "execution_count": null,
   "metadata": {},
   "outputs": [],
   "source": [
    "def clamp(x):\n",
    "    # return max(0.0, min(x, 4.0))\n",
    "    return round(max(0.0, min(x, 4.0)))\n"
   ]
  },
  {
   "cell_type": "code",
   "execution_count": null,
   "metadata": {},
   "outputs": [],
   "source": [
    "cmd = (lambda x: round(max(0.0, min(x, 4.0))))(vspeed_correction)"
   ]
  },
  {
   "cell_type": "code",
   "execution_count": null,
   "metadata": {},
   "outputs": [],
   "source": [
    "def is_within_bounds(r: int, c: int, matrix: List[List[int]]) -> bool:\n",
    "    return 0 <= r < len(matrix) and 0 <= c < len(matrix[0])"
   ]
  },
  {
   "cell_type": "code",
   "execution_count": null,
   "metadata": {},
   "outputs": [],
   "source": [
    "dirs = [(-1, 0), (1, 0), (0, -1), (0, 1)]\n",
    "for d in dirs:\n",
    "    next_r, next_c = r + d[0], c + d[1]\n",
    "    if is_within_bounds(next_r, next_c, matrix) and matrix[next_r][next_c] == 1:\n",
    "        dfs(next_r, next_c, matrix)"
   ]
  }
 ],
 "metadata": {
  "kernelspec": {
   "display_name": "codingame",
   "language": "python",
   "name": "python3"
  },
  "language_info": {
   "codemirror_mode": {
    "name": "ipython",
    "version": 3
   },
   "file_extension": ".py",
   "mimetype": "text/x-python",
   "name": "python",
   "nbconvert_exporter": "python",
   "pygments_lexer": "ipython3",
   "version": "3.13.1"
  }
 },
 "nbformat": 4,
 "nbformat_minor": 2
}
