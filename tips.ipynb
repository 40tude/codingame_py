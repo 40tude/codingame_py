{
 "cells": [
  {
   "cell_type": "markdown",
   "metadata": {},
   "source": [
    "# Entrées"
   ]
  },
  {
   "cell_type": "markdown",
   "metadata": {},
   "source": [
    "## 1D"
   ]
  },
  {
   "cell_type": "code",
   "execution_count": null,
   "metadata": {},
   "outputs": [],
   "source": [
    "# Lire 1 entier sur 1 ligne\n",
    "# Exemple : 42\n",
    "\n",
    "nb_brick = int(input())\n",
    "\n",
    "# Lire 2 entiers sur 1 ligne\n",
    "# Exemple : 42 21\n",
    "\n",
    "w, h = map(int, input().split())\n",
    "#       À préférer à w, h = [int(i) for i in input().split()] qui créera une liste inutilement\n",
    "\n"
   ]
  },
  {
   "cell_type": "code",
   "execution_count": null,
   "metadata": {},
   "outputs": [],
   "source": [
    "# Créer une liste avec 1 une ligne d'entiers espacés \n",
    "# Exemple : 100 10 150\n",
    "\n",
    "brick_weights = [int(i) for i in input().split()]"
   ]
  },
  {
   "cell_type": "code",
   "execution_count": null,
   "metadata": {},
   "outputs": [],
   "source": [
    "# Lire une date\n",
    "# Exemple : 15.12.2014\n",
    "\n",
    "from datetime import date\n",
    "begin = date(*list(map(int, input().split(\".\")))[::-1])\n"
   ]
  },
  {
   "cell_type": "code",
   "execution_count": null,
   "metadata": {},
   "outputs": [],
   "source": [
    "# Créer une liste à partir d'une ligne de chars espacés \n",
    "# Exemple : x y x' z y'\n",
    "\n",
    "rotations = input().split()\n",
    "#       ['x', 'y', \"x'\", 'z', \"y'\"]"
   ]
  },
  {
   "cell_type": "code",
   "execution_count": null,
   "metadata": {},
   "outputs": [],
   "source": [
    "# Créer une liste à partir d'une ligne de groupes de chars séparés par des points\n",
    "# Exemple : sqdqsd.9J4T7A55Q.Something.465.just\n",
    "\n",
    "chunks = input().split(\".\")"
   ]
  },
  {
   "cell_type": "code",
   "execution_count": null,
   "metadata": {},
   "outputs": [],
   "source": [
    "# Créer une chaîne en joignant n lignes de char\n",
    "# Exemple :\n",
    "# 3\n",
    "# This is the (first|second|third) choice.\n",
    "# This is the (first|second|third) choice.\n",
    "# This is the (first|second|third) choice.\n",
    "\n",
    "str_in = \"\\n\".join(input() for _ in range(int(input())))\n"
   ]
  },
  {
   "cell_type": "markdown",
   "metadata": {},
   "source": [
    "## 2D"
   ]
  },
  {
   "cell_type": "code",
   "execution_count": null,
   "metadata": {},
   "outputs": [],
   "source": [
    "# Créer une liste 2D avec n lignes de char\n",
    "# Exemple :\n",
    "# 4\n",
    "# enzr\n",
    "# ddxk\n",
    "# unfs\n",
    "# kwmm\n",
    "\n",
    "n = int(input())\n",
    "map_in = [list(input()) for _ in range(n)]\n",
    "\n",
    "# Si n n'est pas utilie dans la suite \n",
    "map_in = [list(input()) for _ in range(int(input()))]\n",
    "\n",
    "\n",
    "\n",
    "\n",
    "\n"
   ]
  },
  {
   "cell_type": "code",
   "execution_count": null,
   "metadata": {},
   "outputs": [],
   "source": [
    "# Créer une liste 2D avec h lignes de w char\n",
    "# Exemple :\n",
    "# 15 3\n",
    "# ...............\n",
    "# ......#........\n",
    "# ...............\n",
    "\n",
    "w, h = map(int, input().split())\n",
    "map_in = [list(input()) for _ in range(h)]\n"
   ]
  },
  {
   "cell_type": "markdown",
   "metadata": {},
   "source": [
    "## 3D"
   ]
  },
  {
   "cell_type": "code",
   "execution_count": null,
   "metadata": {},
   "outputs": [],
   "source": [
    "# Créer une liste 3D avec n maps de h lignes de char\n",
    "\n",
    "n, h = map(int, input().split())\n",
    "list_of_2D_maps = [[list(input()) for _ in range(h)] for _ in range(n)]\n",
    "\n"
   ]
  },
  {
   "cell_type": "markdown",
   "metadata": {},
   "source": [
    "# Sorties"
   ]
  },
  {
   "cell_type": "code",
   "execution_count": null,
   "metadata": {},
   "outputs": [],
   "source": [
    "# Créer une liste 2D N x N de \"-\"\n",
    "\n",
    "map_out = [list(\"-\" * n) for _ in range(n)]\n",
    "#       Plus rapide que : map_out = [['-' for _ in range(w)] for _ in range(h)]\n",
    "\n",
    "\n",
    "\n",
    "\n",
    "\n",
    "# Afficher une liste 2D\n",
    "# Exemple : [['.', '.', 'O'], ['.', 'O', '.'], ['O', '.', '.']]\n",
    "print(\"\\n\".join(\"\".join(row) for row in map_out))\n",
    "\n"
   ]
  },
  {
   "cell_type": "markdown",
   "metadata": {},
   "source": [
    "# Divers"
   ]
  },
  {
   "cell_type": "code",
   "execution_count": null,
   "metadata": {},
   "outputs": [],
   "source": [
    "# Retrouver les coordonnées de l'unique valeur 'S' dans une liste 2D\n",
    "\n",
    "# next() renvoie le premier couple (y, x) trouvé où la valeur est \"S\".\n",
    "y0, x0 = next((y, x) for y, row in enumerate(map) for x, value in enumerate(row) if value == \"S\")\n"
   ]
  },
  {
   "cell_type": "code",
   "execution_count": null,
   "metadata": {},
   "outputs": [],
   "source": [
    "# Retrouver les coordonnées des valeurs 'a' dans une liste 2D\n",
    "multiple_starts = [(y, x) for y, row in enumerate(map_in) for x, value in enumerate(row) if value == 'a']\n"
   ]
  },
  {
   "cell_type": "code",
   "execution_count": null,
   "metadata": {},
   "outputs": [],
   "source": [
    "# .sort() ne retourne rien\n",
    "\n",
    "# le mieeux pour lire une liste et la trier\n",
    "liste_triee = sorted([int(i) for i in input().split()], reverse=True)"
   ]
  },
  {
   "cell_type": "code",
   "execution_count": null,
   "metadata": {},
   "outputs": [],
   "source": [
    "# Rediriger les entrées\n",
    "RedirectIOtoFile = True\n",
    "if RedirectIOtoFile:\n",
    "    import sys\n",
    "    import os\n",
    "    from pathlib import Path\n",
    "\n",
    "    k_input = \"input.txt\"\n",
    "    os.chdir(Path(__file__).parent)\n",
    "    sys.stdin = open(k_input, \"r\")\n",
    "\n",
    "# -----------------------------------------------------------------------------\n",
    "# Your code here...\n",
    "\n",
    "# -----------------------------------------------------------------------------\n",
    "if RedirectIOtoFile:\n",
    "    sys.stdin.close()\n"
   ]
  },
  {
   "cell_type": "code",
   "execution_count": null,
   "metadata": {},
   "outputs": [],
   "source": [
    "# -----------------------------------------------------------------------------\n",
    "# To debug: print(\"Debug messages...\", file=sys.stderr, flush=True)\n",
    "import time\n",
    "import sys\n",
    "\n",
    "start_time = time.perf_counter()\n",
    "\n",
    "# -----------------------------------------------------------------------------\n",
    "# Your code here...\n",
    "\n",
    "end_time = time.perf_counter()\n",
    "print(f\"Execution time: {(end_time - start_time) * 1_000_000 :.2f} µs\", file=sys.stderr, flush=True))\n"
   ]
  },
  {
   "cell_type": "code",
   "execution_count": null,
   "metadata": {},
   "outputs": [],
   "source": [
    "from collections import deque\n",
    "\n",
    "class Node:\n",
    "    def __init__(self, key):\n",
    "        self.left = None\n",
    "        self.right = None\n",
    "        self.val = key\n",
    "\n",
    "\n",
    "def bfs(root):\n",
    "    if root is None:\n",
    "        return\n",
    "\n",
    "    # Initialize a queue for BFS\n",
    "    queue = deque([root])\n",
    "\n",
    "    while queue:\n",
    "        # Dequeue a node from the front of the queue\n",
    "        node = queue.popleft()\n",
    "        # Visit the node\n",
    "        print(node.val, end=\" \")\n",
    "\n",
    "        # Enqueue the left child if it exists\n",
    "        if node.left:\n",
    "            queue.append(node.left)\n",
    "        # Enqueue the right child if it exists\n",
    "        if node.right:\n",
    "            queue.append(node.right)\n",
    "\n",
    "\n",
    "# Create a sample binary search tree\n",
    "#       50\n",
    "#      /  \\\n",
    "#    30   70\n",
    "#    / \\  / \\\n",
    "#   20 40 60 80\n",
    "\n",
    "root = Node(50)\n",
    "root.left = Node(30)\n",
    "root.right = Node(70)\n",
    "root.left.left = Node(20)\n",
    "root.left.right = Node(40)\n",
    "root.right.left = Node(60)\n",
    "root.right.right = Node(80)\n",
    "\n",
    "bfs(root)  # Output: 50 30 70 20 40 60 80\n"
   ]
  }
 ],
 "metadata": {
  "language_info": {
   "name": "python"
  }
 },
 "nbformat": 4,
 "nbformat_minor": 2
}
