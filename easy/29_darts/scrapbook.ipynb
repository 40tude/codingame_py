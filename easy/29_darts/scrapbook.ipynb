{
 "cells": [
  {
   "cell_type": "code",
   "execution_count": 1,
   "metadata": {},
   "outputs": [
    {
     "name": "stdout",
     "output_type": "stream",
     "text": [
      "{'Brandon': 20, 'Molly': 20, 'Joe': 20, 'Louis': 15, 'Eric': 15}\n"
     ]
    }
   ],
   "source": [
    "# Dictionnaire initial\n",
    "d = {\"Eric\": 15, \"Joe\": 20, \"Molly\": 20, \"Louis\": 15, \"Brandon\": 20}\n",
    "\n",
    "# Associer chaque clé à sa valeur et son index d'apparition\n",
    "d_with_index = {key: (value, i) for i, (key, value) in enumerate(d.items())}\n",
    "\n",
    "# Trier par valeur, puis par l'index original pour préserver l'ordre\n",
    "sorted_d = dict(sorted(d_with_index.items(), key=lambda x: (x[1][0], x[1][1]), reverse=True))\n",
    "\n",
    "# Supprimer l'index, on garde uniquement la valeur\n",
    "sorted_d = {k: v[0] for k, v in sorted_d.items()}\n",
    "\n",
    "print(sorted_d)"
   ]
  },
  {
   "cell_type": "code",
   "execution_count": 2,
   "metadata": {},
   "outputs": [
    {
     "name": "stdout",
     "output_type": "stream",
     "text": [
      "{'Joe': 20, 'Molly': 20, 'Brandon': 20, 'Eric': 15, 'Louis': 15}\n"
     ]
    }
   ],
   "source": [
    "# Dictionnaire initial avec l'ordre souhaité\n",
    "d = {\"Eric\": 15, \"Joe\": 20, \"Molly\": 20, \"Louis\": 15, \"Brandon\": 20}\n",
    "\n",
    "# Trier les éléments par valeur, et en cas d'égalité, garder l'ordre d'apparition\n",
    "sorted_items = sorted(d.items(), key=lambda x: (-x[1], list(d.keys()).index(x[0])))\n",
    "\n",
    "# Reconstruire un dictionnaire ordonné\n",
    "sorted_d = dict(sorted_items)\n",
    "\n",
    "print(sorted_d)\n"
   ]
  }
 ],
 "metadata": {
  "kernelspec": {
   "display_name": "codingame",
   "language": "python",
   "name": "python3"
  },
  "language_info": {
   "codemirror_mode": {
    "name": "ipython",
    "version": 3
   },
   "file_extension": ".py",
   "mimetype": "text/x-python",
   "name": "python",
   "nbconvert_exporter": "python",
   "pygments_lexer": "ipython3",
   "version": "3.13.1"
  }
 },
 "nbformat": 4,
 "nbformat_minor": 2
}
