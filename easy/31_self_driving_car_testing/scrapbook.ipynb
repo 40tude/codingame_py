{
 "cells": [
  {
   "cell_type": "code",
   "execution_count": null,
   "metadata": {},
   "outputs": [],
   "source": [
    "car_commands = \"3;4S;8R;8L;3S\".split(\";\")  # Liste des commandes\n",
    "car_x = int(car_commands.pop(0)) - 1  # Position initiale de la voiture\n",
    "car_dx = 0  # Direction initiale\n",
    "\n",
    "\n",
    "\n",
    "import re\n",
    "pattern = re.compile(r\"^(\\d+)([LSR]+)$\")  # Regex pour les commandes\n",
    "\n",
    "a_match = pattern.match(car_commands[road_ptr])\n",
    "if a_match:\n",
    "    car_segment_len = int(a_match.group(1))\n",
    "    car_move = a_match.group(2)\n",
    "    match car_move:\n",
    "        case \"S\":\n",
    "            car_dx = 0\n",
    "        case \"L\":\n",
    "            car_dx = -1\n",
    "        case \"R\":\n",
    "            car_dx = 1\n"
   ]
  }
 ],
 "metadata": {
  "kernelspec": {
   "display_name": "codingame",
   "language": "python",
   "name": "python3"
  },
  "language_info": {
   "codemirror_mode": {
    "name": "ipython",
    "version": 3
   },
   "file_extension": ".py",
   "mimetype": "text/x-python",
   "name": "python",
   "nbconvert_exporter": "python",
   "pygments_lexer": "ipython3",
   "version": "3.13.1"
  }
 },
 "nbformat": 4,
 "nbformat_minor": 2
}
