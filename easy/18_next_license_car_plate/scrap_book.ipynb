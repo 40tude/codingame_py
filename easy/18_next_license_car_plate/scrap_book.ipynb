{
 "cells": [
  {
   "cell_type": "markdown",
   "metadata": {},
   "source": [
    "AA-001-AA, AA-002-AA, AA-003-AA, ..., AA-999-AA,\n",
    "\n",
    "AA-001-AB, AA-002-AB, AA-003-AB, ..., AA-999-AB,\n",
    "\n",
    "...,\n",
    "\n",
    "AA-001-ZZ, AA-002-ZZ, AA-003-ZZ, ..., AA-999-ZZ,\n",
    "\n",
    "AB-001-AA, AB-002-AA, AB-003-AA, ..., AB-999-AA,\n",
    "\n",
    "...,\n",
    "\n",
    "ZY-001-ZZ, ZY-002-ZZ, ZY-003-ZZ, ..., ZY-999-ZZ,\n",
    "\n",
    "ZZ-001-AA, ZZ-002-AA, ZZ-003-AA, ..., ZZ-999-ZZ"
   ]
  },
  {
   "cell_type": "code",
   "execution_count": 2,
   "metadata": {},
   "outputs": [],
   "source": [
    "a2d = lambda a : ord(a) - ord('A')\n",
    "d2a = lambda d : chr(d + ord('A'))"
   ]
  },
  {
   "cell_type": "code",
   "execution_count": null,
   "metadata": {},
   "outputs": [],
   "source": [
    "# IO-010-OI + 100_000 = IO-110-SE  \n",
    "print(\"IO-010-OI\")\n",
    "Units = int(\"010\")\n",
    "print(f\"Units    : {Units:03}\")\n",
    "\n",
    "Tenths = a2d('O')*26**1 + a2d('I')*26**0\n",
    "print(f\"Tenths   : {Tenths}\")\n",
    "\n",
    "Hundreds = a2d('I')*26**1 + a2d('O')*26**0 \n",
    "print(f\"Hundreds : {Hundreds}\")\n",
    "\n",
    "k_MaxUnits = 999\n",
    "Carry, Units = divmod(Units + 100_000, k_MaxUnits)\n",
    "print(f\"Units    : {Units:03} + {Carry}\")\n",
    "\n",
    "k_Max_Tenths = 26**2 \n",
    "Carry, Tenths = divmod(Tenths + Carry, k_Max_Tenths)\n",
    "print(f\"Tenths   : {Tenths} + {Carry}\")\n",
    "t1, t2 = divmod(Tenths, 26)\n",
    "print(d2a(t1),d2a(t2))\n",
    "\n",
    "k_Max_Hundreds = 26**2\n",
    "Carry, Hundreds = divmod(Hundreds + Carry, k_Max_Hundreds)\n",
    "print(f\"Hundreds : {Hundreds} + {Carry}\")\n",
    "h1, h2 = divmod(Hundreds, 26)\n",
    "print(d2a(h1),d2a(h2))\n",
    "\n",
    "print()\n",
    "print(f\"{d2a(h1)}{d2a(h2)}-{Units:03}-{d2a(t1)}{d2a(t2)}\")\n"
   ]
  },
  {
   "cell_type": "code",
   "execution_count": null,
   "metadata": {},
   "outputs": [],
   "source": [
    "# BN-999-GH + 1 = BN-001-GI\n",
    "print(\"BN-999-GH\")\n",
    "Units = int(\"999\")\n",
    "print(f\"Units    : {Units:03}\")\n",
    "\n",
    "Tenths = a2d('G')*26**1 + a2d('H')*26**0\n",
    "print(f\"Tenths   : {Tenths}\")\n",
    "\n",
    "Hundreds = a2d('B')*26**1 + a2d('N')*26**0 \n",
    "print(f\"Hundreds : {Hundreds}\")\n",
    "\n",
    "k_MaxUnits = 999\n",
    "Carry, Units = divmod(Units + 1, k_MaxUnits)\n",
    "print(f\"Units    : {Units:03} + {Carry}\")\n",
    "\n",
    "k_Max_Tenths = 26**2 \n",
    "Carry, Tenths = divmod(Tenths + Carry, k_Max_Tenths)\n",
    "print(f\"Tenths   : {Tenths} + {Carry}\")\n",
    "t1, t2 = divmod(Tenths, 26)\n",
    "print(d2a(t1),d2a(t2))\n",
    "\n",
    "k_Max_Hundreds = 26**2\n",
    "Carry, Hundreds = divmod(Hundreds + Carry, k_Max_Hundreds)\n",
    "print(f\"Hundreds : {Hundreds} + {Carry}\")\n",
    "h1, h2 = divmod(Hundreds, 26)\n",
    "print(d2a(h1),d2a(h2))\n",
    "\n",
    "print()\n",
    "print(f\"{d2a(h1)}{d2a(h2)}-{Units:03}-{d2a(t1)}{d2a(t2)}\")\n",
    "\n"
   ]
  },
  {
   "cell_type": "code",
   "execution_count": null,
   "metadata": {},
   "outputs": [],
   "source": [
    "# AA-999-ZZ + 1 = AB-001-AA\n",
    "\n",
    "# AA-ZZ-999 + 1 = AB-AA-001\n",
    "\n",
    "\n",
    "print(\"AA-999-ZZ\")\n",
    "Units = int(\"999\")\n",
    "print(f\"Units    : {Units:03}\")\n",
    "\n",
    "Tenths = a2d('Z')*26**1 + a2d('Z')*26**0\n",
    "print(f\"Tenths   : {Tenths}\")\n",
    "\n",
    "Hundreds = a2d('A')*26**1 + a2d('A')*26**0 \n",
    "print(f\"Hundreds : {Hundreds}\")\n",
    "\n",
    "k_MaxUnits = 999\n",
    "Carry, Units = divmod(Units + 1, k_MaxUnits)\n",
    "print(f\"Units    : {Units:03} + {Carry}\")\n",
    "\n",
    "k_Max_Tenths = 26**2 \n",
    "Carry, Tenths = divmod(Tenths + Carry, k_Max_Tenths)\n",
    "print(f\"Tenths   : {Tenths} + {Carry}\")\n",
    "t1, t2 = divmod(Tenths, 26)\n",
    "print(d2a(t1),d2a(t2))\n",
    "\n",
    "k_Max_Hundreds = 26**2\n",
    "Carry, Hundreds = divmod(Hundreds + Carry, k_Max_Hundreds)\n",
    "print(f\"Hundreds : {Hundreds} + {Carry}\")\n",
    "h1, h2 = divmod(Hundreds, 26)\n",
    "print(d2a(h1),d2a(h2))\n",
    "\n",
    "print()\n",
    "print(f\"{d2a(h1)}{d2a(h2)}-{Units:03}-{d2a(t1)}{d2a(t2)}\")\n",
    "\n"
   ]
  },
  {
   "cell_type": "code",
   "execution_count": null,
   "metadata": {},
   "outputs": [],
   "source": [
    "import re\n",
    "\n",
    "expr = \"AA-999-ZZ\"\n",
    "match = re.search(r\"^([A-Z]{2})-(\\d{3})-([A-Z]{2})$\", expr)\n",
    "Hundreds = match.group(1)\n",
    "Units = int(match.group(2))\n",
    "Tenths = match.group(3) \n",
    "\n",
    "    \n",
    "print(expr)\n",
    "print(f\"Units    : {Units:03}\")\n",
    "\n",
    "Tenths = a2d(Tenths[1])*26**1 + a2d(Tenths[0])*26**0\n",
    "print(f\"Tenths   : {Tenths}\")\n",
    "\n",
    "Hundreds = a2d(Hundreds[1])*26**1 + a2d(Hundreds[0])*26**0 \n",
    "print(f\"Hundreds : {Hundreds}\")\n",
    "\n",
    "k_MaxUnits = 999\n",
    "Carry, Units = divmod(Units + 1, k_MaxUnits)\n",
    "print(f\"Units    : {Units:03} + {Carry}\")\n",
    "\n",
    "k_Max_Tenths = 26**2 \n",
    "Carry, Tenths = divmod(Tenths + Carry, k_Max_Tenths)\n",
    "print(f\"Tenths   : {Tenths} + {Carry}\")\n",
    "t1, t2 = divmod(Tenths, 26)\n",
    "print(d2a(t1),d2a(t2))\n",
    "\n",
    "k_Max_Hundreds = 26**2\n",
    "Carry, Hundreds = divmod(Hundreds + Carry, k_Max_Hundreds)\n",
    "print(f\"Hundreds : {Hundreds} + {Carry}\")\n",
    "h1, h2 = divmod(Hundreds, 26)\n",
    "print(d2a(h1),d2a(h2))\n",
    "\n",
    "print()\n",
    "print(f\"{d2a(h1)}{d2a(h2)}-{Units:03}-{d2a(t1)}{d2a(t2)}\")\n",
    "\n"
   ]
  },
  {
   "cell_type": "code",
   "execution_count": 4,
   "metadata": {},
   "outputs": [
    {
     "name": "stdout",
     "output_type": "stream",
     "text": [
      "IO 010 OI\n"
     ]
    }
   ],
   "source": [
    "plate = \"IO-010-OI\"\n",
    "# match = re.search(r\"^([A-Z]{2})-(\\d{3})-([A-Z]{2})$\", plate)\n",
    "# Hundreds = match.group(1)\n",
    "# Units = int(match.group(2))\n",
    "# Tenths = match.group(3)\n",
    "Hundreds, Units, Tenths = plate.split('-')\n",
    "print (Hundreds, Units, Tenths)\n",
    "\n"
   ]
  },
  {
   "cell_type": "code",
   "execution_count": 2,
   "metadata": {},
   "outputs": [
    {
     "name": "stdout",
     "output_type": "stream",
     "text": [
      "AA-000-AB\n"
     ]
    }
   ],
   "source": [
    "# Réponse AA-999-AA\n",
    "\n",
    "plate = \"AA-998-AA\" #input()\n",
    "n = 1 #int(input())\n",
    "\n",
    "k_alphabet = 26\n",
    "k_Max_2Chars = k_alphabet**2\n",
    "k_MaxUnits = 999\n",
    "\n",
    "a2d = lambda a: ord(a) - ord(\"A\")\n",
    "d2a = lambda d: chr(d + ord(\"A\"))\n",
    "\n",
    "hundreds, units, tenths = plate.split(\"-\")\n",
    "units = int(units)\n",
    "tenths = a2d(tenths[0]) * k_alphabet + a2d(tenths[1])\n",
    "hundreds = a2d(hundreds[0]) * k_alphabet + a2d(hundreds[1])\n",
    "carry, units = divmod(units + n, k_MaxUnits)\n",
    "carry, tenths = divmod(tenths + carry, k_Max_2Chars)\n",
    "t1, t2 = divmod(tenths, k_alphabet)\n",
    "carry, hundreds = divmod(hundreds + carry, k_Max_2Chars)\n",
    "h1, h2 = divmod(hundreds, k_alphabet)\n",
    "print(f\"{d2a(h1)}{d2a(h2)}-{units:03}-{d2a(t1)}{d2a(t2)}\")\n"
   ]
  },
  {
   "cell_type": "code",
   "execution_count": 13,
   "metadata": {},
   "outputs": [
    {
     "name": "stdout",
     "output_type": "stream",
     "text": [
      "BN-001-GI\n"
     ]
    }
   ],
   "source": [
    "# Réponse BN-001-GI\n",
    "\n",
    "plate = \"BN-999-GH\" #input()\n",
    "n = 1 #int(input())\n",
    "\n",
    "k_alphabet = 26\n",
    "k_Max_2Chars = k_alphabet**2\n",
    "k_MaxUnits = 1000\n",
    "\n",
    "a2d = lambda a: ord(a) - ord(\"A\")\n",
    "d2a = lambda d: chr(d + ord(\"A\"))\n",
    "\n",
    "hundreds, units, tenths = plate.split(\"-\")\n",
    "units = int(units)\n",
    "tenths = a2d(tenths[0]) * k_alphabet + a2d(tenths[1])\n",
    "hundreds = a2d(hundreds[0]) * k_alphabet + a2d(hundreds[1])\n",
    "carry, units = divmod(units + n, k_MaxUnits)\n",
    "units = 1 if units == 0 else units\n",
    "carry, tenths = divmod(tenths + carry, k_Max_2Chars)\n",
    "t1, t2 = divmod(tenths, k_alphabet)\n",
    "carry, hundreds = divmod(hundreds + carry, k_Max_2Chars)\n",
    "h1, h2 = divmod(hundreds, k_alphabet)\n",
    "print(f\"{d2a(h1)}{d2a(h2)}-{units:03}-{d2a(t1)}{d2a(t2)}\")"
   ]
  },
  {
   "cell_type": "code",
   "execution_count": 26,
   "metadata": {},
   "outputs": [
    {
     "ename": "KeyboardInterrupt",
     "evalue": "",
     "output_type": "error",
     "traceback": [
      "\u001b[1;31m---------------------------------------------------------------------------\u001b[0m",
      "\u001b[1;31mKeyboardInterrupt\u001b[0m                         Traceback (most recent call last)",
      "Cell \u001b[1;32mIn[26], line 18\u001b[0m\n\u001b[0;32m     16\u001b[0m hundreds \u001b[38;5;241m=\u001b[39m a2d(hundreds[\u001b[38;5;241m0\u001b[39m]) \u001b[38;5;241m*\u001b[39m k_alphabet \u001b[38;5;241m+\u001b[39m a2d(hundreds[\u001b[38;5;241m1\u001b[39m])\n\u001b[0;32m     17\u001b[0m carry, units \u001b[38;5;241m=\u001b[39m \u001b[38;5;28mdivmod\u001b[39m(units \u001b[38;5;241m+\u001b[39m n, k_MaxUnits)\n\u001b[1;32m---> 18\u001b[0m carry, tenths \u001b[38;5;241m=\u001b[39m \u001b[38;5;28;43mdivmod\u001b[39;49m(tenths \u001b[38;5;241m+\u001b[39m carry, k_Max_2Chars)\n\u001b[0;32m     19\u001b[0m t1, t2 \u001b[38;5;241m=\u001b[39m \u001b[38;5;28mdivmod\u001b[39m(tenths, k_alphabet)\n\u001b[0;32m     20\u001b[0m carry, hundreds \u001b[38;5;241m=\u001b[39m \u001b[38;5;28mdivmod\u001b[39m(hundreds \u001b[38;5;241m+\u001b[39m carry, k_Max_2Chars)\n",
      "File \u001b[1;32m<stringsource>:69\u001b[0m, in \u001b[0;36mcfunc.to_py.__Pyx_CFunc_b0409f__29_pydevd_sys_monitoring_cython_object__lParen__etc_to_py_4code_4line.wrap\u001b[1;34m()\u001b[0m\n",
      "File \u001b[1;32m_pydevd_sys_monitoring\\\\_pydevd_sys_monitoring_cython.pyx:1470\u001b[0m, in \u001b[0;36m_pydevd_sys_monitoring_cython._line_event\u001b[1;34m()\u001b[0m\n",
      "File \u001b[1;32m_pydevd_sys_monitoring\\\\_pydevd_sys_monitoring_cython.pyx:1591\u001b[0m, in \u001b[0;36m_pydevd_sys_monitoring_cython._internal_line_event\u001b[1;34m()\u001b[0m\n",
      "File \u001b[1;32m_pydevd_sys_monitoring\\\\_pydevd_sys_monitoring_cython.pyx:1950\u001b[0m, in \u001b[0;36m_pydevd_sys_monitoring_cython._do_wait_suspend\u001b[1;34m()\u001b[0m\n",
      "File \u001b[1;32mc:\\Users\\phili\\anaconda3\\envs\\codingame\\Lib\\site-packages\\debugpy\\_vendored\\pydevd\\pydevd.py:2185\u001b[0m, in \u001b[0;36mPyDB.do_wait_suspend\u001b[1;34m(self, thread, frame, event, arg, exception_type)\u001b[0m\n\u001b[0;32m   2182\u001b[0m             from_this_thread\u001b[38;5;241m.\u001b[39mappend(frame_custom_thread_id)\n\u001b[0;32m   2184\u001b[0m     \u001b[38;5;28;01mwith\u001b[39;00m \u001b[38;5;28mself\u001b[39m\u001b[38;5;241m.\u001b[39m_threads_suspended_single_notification\u001b[38;5;241m.\u001b[39mnotify_thread_suspended(thread_id, thread, stop_reason):\n\u001b[1;32m-> 2185\u001b[0m         keep_suspended \u001b[38;5;241m=\u001b[39m \u001b[38;5;28;43mself\u001b[39;49m\u001b[38;5;241;43m.\u001b[39;49m\u001b[43m_do_wait_suspend\u001b[49m\u001b[43m(\u001b[49m\u001b[43mthread\u001b[49m\u001b[43m,\u001b[49m\u001b[43m \u001b[49m\u001b[43mframe\u001b[49m\u001b[43m,\u001b[49m\u001b[43m \u001b[49m\u001b[43mevent\u001b[49m\u001b[43m,\u001b[49m\u001b[43m \u001b[49m\u001b[43marg\u001b[49m\u001b[43m,\u001b[49m\u001b[43m \u001b[49m\u001b[43mtrace_suspend_type\u001b[49m\u001b[43m,\u001b[49m\u001b[43m \u001b[49m\u001b[43mfrom_this_thread\u001b[49m\u001b[43m,\u001b[49m\u001b[43m \u001b[49m\u001b[43mframes_tracker\u001b[49m\u001b[43m)\u001b[49m\n\u001b[0;32m   2187\u001b[0m frames_list \u001b[38;5;241m=\u001b[39m \u001b[38;5;28;01mNone\u001b[39;00m\n\u001b[0;32m   2189\u001b[0m \u001b[38;5;28;01mif\u001b[39;00m keep_suspended:\n\u001b[0;32m   2190\u001b[0m     \u001b[38;5;66;03m# This means that we should pause again after a set next statement.\u001b[39;00m\n",
      "File \u001b[1;32mc:\\Users\\phili\\anaconda3\\envs\\codingame\\Lib\\site-packages\\debugpy\\_vendored\\pydevd\\pydevd.py:2254\u001b[0m, in \u001b[0;36mPyDB._do_wait_suspend\u001b[1;34m(self, thread, frame, event, arg, trace_suspend_type, from_this_thread, frames_tracker)\u001b[0m\n\u001b[0;32m   2251\u001b[0m                 queue\u001b[38;5;241m.\u001b[39mput(internal_cmd)\n\u001b[0;32m   2252\u001b[0m                 wait_timeout \u001b[38;5;241m=\u001b[39m TIMEOUT_FAST\n\u001b[1;32m-> 2254\u001b[0m         \u001b[43mnotify_event\u001b[49m\u001b[38;5;241;43m.\u001b[39;49m\u001b[43mwait\u001b[49m\u001b[43m(\u001b[49m\u001b[43mwait_timeout\u001b[49m\u001b[43m)\u001b[49m\n\u001b[0;32m   2255\u001b[0m         notify_event\u001b[38;5;241m.\u001b[39mclear()\n\u001b[0;32m   2257\u001b[0m \u001b[38;5;28;01mfinally\u001b[39;00m:\n",
      "File \u001b[1;32mc:\\Users\\phili\\anaconda3\\envs\\codingame\\Lib\\threading.py:659\u001b[0m, in \u001b[0;36mEvent.wait\u001b[1;34m(self, timeout)\u001b[0m\n\u001b[0;32m    657\u001b[0m signaled \u001b[38;5;241m=\u001b[39m \u001b[38;5;28mself\u001b[39m\u001b[38;5;241m.\u001b[39m_flag\n\u001b[0;32m    658\u001b[0m \u001b[38;5;28;01mif\u001b[39;00m \u001b[38;5;129;01mnot\u001b[39;00m signaled:\n\u001b[1;32m--> 659\u001b[0m     signaled \u001b[38;5;241m=\u001b[39m \u001b[38;5;28;43mself\u001b[39;49m\u001b[38;5;241;43m.\u001b[39;49m\u001b[43m_cond\u001b[49m\u001b[38;5;241;43m.\u001b[39;49m\u001b[43mwait\u001b[49m\u001b[43m(\u001b[49m\u001b[43mtimeout\u001b[49m\u001b[43m)\u001b[49m\n\u001b[0;32m    660\u001b[0m \u001b[38;5;28;01mreturn\u001b[39;00m signaled\n",
      "File \u001b[1;32mc:\\Users\\phili\\anaconda3\\envs\\codingame\\Lib\\threading.py:363\u001b[0m, in \u001b[0;36mCondition.wait\u001b[1;34m(self, timeout)\u001b[0m\n\u001b[0;32m    361\u001b[0m \u001b[38;5;28;01melse\u001b[39;00m:\n\u001b[0;32m    362\u001b[0m     \u001b[38;5;28;01mif\u001b[39;00m timeout \u001b[38;5;241m>\u001b[39m \u001b[38;5;241m0\u001b[39m:\n\u001b[1;32m--> 363\u001b[0m         gotit \u001b[38;5;241m=\u001b[39m \u001b[43mwaiter\u001b[49m\u001b[38;5;241;43m.\u001b[39;49m\u001b[43macquire\u001b[49m\u001b[43m(\u001b[49m\u001b[38;5;28;43;01mTrue\u001b[39;49;00m\u001b[43m,\u001b[49m\u001b[43m \u001b[49m\u001b[43mtimeout\u001b[49m\u001b[43m)\u001b[49m\n\u001b[0;32m    364\u001b[0m     \u001b[38;5;28;01melse\u001b[39;00m:\n\u001b[0;32m    365\u001b[0m         gotit \u001b[38;5;241m=\u001b[39m waiter\u001b[38;5;241m.\u001b[39macquire(\u001b[38;5;28;01mFalse\u001b[39;00m)\n",
      "\u001b[1;31mKeyboardInterrupt\u001b[0m: "
     ]
    }
   ],
   "source": [
    "# Réponse AA-999-AA\n",
    "\n",
    "plate = \"AA-998-AA\" #input()\n",
    "n = 1 #int(input())\n",
    "\n",
    "k_alphabet = 26\n",
    "k_Max_2Chars = k_alphabet**2\n",
    "k_MaxUnits = 999\n",
    "\n",
    "a2d = lambda a: ord(a) - ord(\"A\")\n",
    "d2a = lambda d: chr(d + ord(\"A\"))\n",
    "\n",
    "hundreds, units, tenths = plate.split(\"-\")\n",
    "units = int(units)\n",
    "tenths = a2d(tenths[0]) * k_alphabet + a2d(tenths[1])\n",
    "hundreds = a2d(hundreds[0]) * k_alphabet + a2d(hundreds[1])\n",
    "carry, units = divmod(units + n, k_MaxUnits)\n",
    "carry, tenths = divmod(tenths + carry, k_Max_2Chars)\n",
    "t1, t2 = divmod(tenths, k_alphabet)\n",
    "carry, hundreds = divmod(hundreds + carry, k_Max_2Chars)\n",
    "h1, h2 = divmod(hundreds, k_alphabet)\n",
    "print(f\"{d2a(h1)}{d2a(h2)}-{units:03}-{d2a(t1)}{d2a(t2)}\")\n"
   ]
  },
  {
   "cell_type": "code",
   "execution_count": 17,
   "metadata": {},
   "outputs": [
    {
     "name": "stdout",
     "output_type": "stream",
     "text": [
      "CG-017-CQ\n"
     ]
    }
   ],
   "source": [
    "# Réponse CG-017-CQ\n",
    "\n",
    "plate = \"CG-007-CG\" #input()\n",
    "n = 10000 #int(input())\n",
    "\n",
    "k_alphabet = 26\n",
    "k_Max_2Chars = k_alphabet**2\n",
    "k_MaxUnits = 999\n",
    "\n",
    "a2d = lambda a: ord(a) - ord(\"A\")\n",
    "d2a = lambda d: chr(d + ord(\"A\"))\n",
    "\n",
    "hundreds, units, tenths = plate.split(\"-\")\n",
    "units = int(units)\n",
    "units -=1\n",
    "\n",
    "tenths = a2d(tenths[0]) * k_alphabet + a2d(tenths[1])\n",
    "hundreds = a2d(hundreds[0]) * k_alphabet + a2d(hundreds[1])\n",
    "carry, units = divmod(units + n, k_MaxUnits)\n",
    "units +=1\n",
    "\n",
    "carry, tenths = divmod(tenths + carry, k_Max_2Chars)\n",
    "t1, t2 = divmod(tenths, k_alphabet)\n",
    "carry, hundreds = divmod(hundreds + carry, k_Max_2Chars)\n",
    "h1, h2 = divmod(hundreds, k_alphabet)\n",
    "print(f\"{d2a(h1)}{d2a(h2)}-{units:03}-{d2a(t1)}{d2a(t2)}\")\n"
   ]
  },
  {
   "cell_type": "code",
   "execution_count": 15,
   "metadata": {},
   "outputs": [
    {
     "name": "stdout",
     "output_type": "stream",
     "text": [
      "AA-999-AA\n"
     ]
    }
   ],
   "source": [
    "# Réponse AA-999-AA\n",
    "\n",
    "plate = \"AA-998-AA\" #input()\n",
    "n = 1 #int(input())\n",
    "\n",
    "k_alphabet = 26\n",
    "k_Max_2Chars = k_alphabet**2\n",
    "k_MaxUnits = 999\n",
    "\n",
    "a2d = lambda a: ord(a) - ord(\"A\")\n",
    "d2a = lambda d: chr(d + ord(\"A\"))\n",
    "\n",
    "hundreds, units, tenths = plate.split(\"-\")\n",
    "units = int(units)\n",
    "units -=1\n",
    "\n",
    "tenths = a2d(tenths[0]) * k_alphabet + a2d(tenths[1])\n",
    "hundreds = a2d(hundreds[0]) * k_alphabet + a2d(hundreds[1])\n",
    "carry, units = divmod(units + n, k_MaxUnits)\n",
    "units +=1\n",
    "\n",
    "carry, tenths = divmod(tenths + carry, k_Max_2Chars)\n",
    "t1, t2 = divmod(tenths, k_alphabet)\n",
    "carry, hundreds = divmod(hundreds + carry, k_Max_2Chars)\n",
    "h1, h2 = divmod(hundreds, k_alphabet)\n",
    "print(f\"{d2a(h1)}{d2a(h2)}-{units:03}-{d2a(t1)}{d2a(t2)}\")\n"
   ]
  },
  {
   "cell_type": "code",
   "execution_count": 14,
   "metadata": {},
   "outputs": [
    {
     "name": "stdout",
     "output_type": "stream",
     "text": [
      "0\n",
      "998\n"
     ]
    }
   ],
   "source": [
    "q,r = divmod(998, 999)\n",
    "print(q)\n",
    "print(r)"
   ]
  }
 ],
 "metadata": {
  "kernelspec": {
   "display_name": "codingame",
   "language": "python",
   "name": "python3"
  },
  "language_info": {
   "codemirror_mode": {
    "name": "ipython",
    "version": 3
   },
   "file_extension": ".py",
   "mimetype": "text/x-python",
   "name": "python",
   "nbconvert_exporter": "python",
   "pygments_lexer": "ipython3",
   "version": "3.13.1"
  }
 },
 "nbformat": 4,
 "nbformat_minor": 2
}
