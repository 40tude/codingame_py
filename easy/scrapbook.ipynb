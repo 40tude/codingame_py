{
 "cells": [
  {
   "cell_type": "code",
   "execution_count": null,
   "metadata": {},
   "outputs": [
    {
     "name": "stdout",
     "output_type": "stream",
     "text": [
      "Does it wrap?\n",
      "Multi\n",
      "line\n"
     ]
    }
   ],
   "source": [
    "str_in = \"\"\"Does it (wrap|unwrap)?\n",
    "(Multi\n",
    "line|Multi\n",
    "line)\"\"\"\n",
    "\n",
    "def make_choice(str_in):\n",
    "    choices = str_in.split(\"|\")\n",
    "    return choices[curr_choice % len(choices)]\n",
    "\n",
    "\n",
    "\n",
    "\n",
    "str_out = \"\"\n",
    "curr_choice=0\n",
    "cursor = 0\n",
    "while cursor < len(str_in):\n",
    "    c = str_in[cursor]\n",
    "    if c == \"(\":\n",
    "        sub=\"\"\n",
    "        cursor += 1\n",
    "        while str_in[cursor] != \")\":\n",
    "            sub += str_in[cursor]\n",
    "            cursor += 1\n",
    "        cursor += 1\n",
    "        str_out += make_choice(sub)\n",
    "        curr_choice += 1\n",
    "\n",
    "    else:\n",
    "        str_out += c\n",
    "        cursor += 1\n",
    "    \n",
    "\n",
    "print(str_out)"
   ]
  }
 ],
 "metadata": {
  "kernelspec": {
   "display_name": "codingame",
   "language": "python",
   "name": "python3"
  },
  "language_info": {
   "codemirror_mode": {
    "name": "ipython",
    "version": 3
   },
   "file_extension": ".py",
   "mimetype": "text/x-python",
   "name": "python",
   "nbconvert_exporter": "python",
   "pygments_lexer": "ipython3",
   "version": "3.13.1"
  }
 },
 "nbformat": 4,
 "nbformat_minor": 2
}
